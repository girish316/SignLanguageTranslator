{
 "cells": [
  {
   "cell_type": "code",
   "execution_count": 3,
   "metadata": {},
   "outputs": [],
   "source": [
    "import cv2\n",
    "import os\n",
    "import time\n",
    "import uuid\n",
    "\n",
    "imagePath = \"Tensorflow/workspace/images/collectedimgs\"\n",
    "labels = [\"hello\", \"yes\", \"no\"]\n",
    "\n",
    "# ['a', 'b', 'c', 'd', 'e', 'f', 'g', 'h', 'i', 'j', 'k', 'l', 'm', 'n', 'o', 'p', 'q', 'r', 's', 't', 'u', 'v', 'w', 'x', 'y', 'z']"
   ]
  },
  {
   "cell_type": "code",
   "execution_count": 4,
   "metadata": {},
   "outputs": [
    {
     "name": "stdout",
     "output_type": "stream",
     "text": [
      "The directory C:/Users/skaly/Documents/SignLanguageTranslator/Tensorflow/workspace/images/collectedimgs/hello already exists.\n",
      "collecting images for hello\n",
      "image write successful with name C:/Users/skaly/Documents/SignLanguageTranslator/Tensorflow/workspace/images/collectedimgs/hello/hello.3644557e-81ce-11ee-8cb0-fc4482be9ad7.jpg\n",
      "image write successful with name C:/Users/skaly/Documents/SignLanguageTranslator/Tensorflow/workspace/images/collectedimgs/hello/hello.377bf2cc-81ce-11ee-8a8a-fc4482be9ad7.jpg\n",
      "image write successful with name C:/Users/skaly/Documents/SignLanguageTranslator/Tensorflow/workspace/images/collectedimgs/hello/hello.38b39ea0-81ce-11ee-b11f-fc4482be9ad7.jpg\n",
      "image write successful with name C:/Users/skaly/Documents/SignLanguageTranslator/Tensorflow/workspace/images/collectedimgs/hello/hello.39e8fc41-81ce-11ee-98cd-fc4482be9ad7.jpg\n",
      "image write successful with name C:/Users/skaly/Documents/SignLanguageTranslator/Tensorflow/workspace/images/collectedimgs/hello/hello.3b1e3210-81ce-11ee-bcb4-fc4482be9ad7.jpg\n",
      "image write successful with name C:/Users/skaly/Documents/SignLanguageTranslator/Tensorflow/workspace/images/collectedimgs/hello/hello.3c52adab-81ce-11ee-ab8b-fc4482be9ad7.jpg\n",
      "image write successful with name C:/Users/skaly/Documents/SignLanguageTranslator/Tensorflow/workspace/images/collectedimgs/hello/hello.3d87387f-81ce-11ee-8862-fc4482be9ad7.jpg\n",
      "image write successful with name C:/Users/skaly/Documents/SignLanguageTranslator/Tensorflow/workspace/images/collectedimgs/hello/hello.3ebcd75c-81ce-11ee-8b26-fc4482be9ad7.jpg\n",
      "image write successful with name C:/Users/skaly/Documents/SignLanguageTranslator/Tensorflow/workspace/images/collectedimgs/hello/hello.3ff2cde7-81ce-11ee-aae3-fc4482be9ad7.jpg\n",
      "image write successful with name C:/Users/skaly/Documents/SignLanguageTranslator/Tensorflow/workspace/images/collectedimgs/hello/hello.4127b9b2-81ce-11ee-8ba5-fc4482be9ad7.jpg\n",
      "The directory C:/Users/skaly/Documents/SignLanguageTranslator/Tensorflow/workspace/images/collectedimgs/yes already exists.\n",
      "collecting images for yes\n",
      "image write successful with name C:/Users/skaly/Documents/SignLanguageTranslator/Tensorflow/workspace/images/collectedimgs/yes/yes.483154a4-81ce-11ee-804a-fc4482be9ad7.jpg\n",
      "image write successful with name C:/Users/skaly/Documents/SignLanguageTranslator/Tensorflow/workspace/images/collectedimgs/yes/yes.496615e2-81ce-11ee-a5c3-fc4482be9ad7.jpg\n",
      "image write successful with name C:/Users/skaly/Documents/SignLanguageTranslator/Tensorflow/workspace/images/collectedimgs/yes/yes.4a9a7cbc-81ce-11ee-af28-fc4482be9ad7.jpg\n",
      "image write successful with name C:/Users/skaly/Documents/SignLanguageTranslator/Tensorflow/workspace/images/collectedimgs/yes/yes.4bcfe4b7-81ce-11ee-9c32-fc4482be9ad7.jpg\n",
      "image write successful with name C:/Users/skaly/Documents/SignLanguageTranslator/Tensorflow/workspace/images/collectedimgs/yes/yes.4d04f0ce-81ce-11ee-ae2b-fc4482be9ad7.jpg\n",
      "image write successful with name C:/Users/skaly/Documents/SignLanguageTranslator/Tensorflow/workspace/images/collectedimgs/yes/yes.4e386dbf-81ce-11ee-8ae9-fc4482be9ad7.jpg\n",
      "image write successful with name C:/Users/skaly/Documents/SignLanguageTranslator/Tensorflow/workspace/images/collectedimgs/yes/yes.4f6dc3e8-81ce-11ee-813d-fc4482be9ad7.jpg\n",
      "image write successful with name C:/Users/skaly/Documents/SignLanguageTranslator/Tensorflow/workspace/images/collectedimgs/yes/yes.50a31ca6-81ce-11ee-ad89-fc4482be9ad7.jpg\n",
      "image write successful with name C:/Users/skaly/Documents/SignLanguageTranslator/Tensorflow/workspace/images/collectedimgs/yes/yes.51d8297a-81ce-11ee-bc0b-fc4482be9ad7.jpg\n",
      "image write successful with name C:/Users/skaly/Documents/SignLanguageTranslator/Tensorflow/workspace/images/collectedimgs/yes/yes.530d2d3c-81ce-11ee-a1bf-fc4482be9ad7.jpg\n",
      "The directory C:/Users/skaly/Documents/SignLanguageTranslator/Tensorflow/workspace/images/collectedimgs/no has been created.\n",
      "collecting images for no\n",
      "image write successful with name C:/Users/skaly/Documents/SignLanguageTranslator/Tensorflow/workspace/images/collectedimgs/no/no.5a2b38e3-81ce-11ee-8550-fc4482be9ad7.jpg\n",
      "image write successful with name C:/Users/skaly/Documents/SignLanguageTranslator/Tensorflow/workspace/images/collectedimgs/no/no.5b5f2c7f-81ce-11ee-b2b3-fc4482be9ad7.jpg\n",
      "image write successful with name C:/Users/skaly/Documents/SignLanguageTranslator/Tensorflow/workspace/images/collectedimgs/no/no.5c93d703-81ce-11ee-a10d-fc4482be9ad7.jpg\n",
      "image write successful with name C:/Users/skaly/Documents/SignLanguageTranslator/Tensorflow/workspace/images/collectedimgs/no/no.5dc8896d-81ce-11ee-a334-fc4482be9ad7.jpg\n",
      "image write successful with name C:/Users/skaly/Documents/SignLanguageTranslator/Tensorflow/workspace/images/collectedimgs/no/no.5efd877f-81ce-11ee-925a-fc4482be9ad7.jpg\n",
      "image write successful with name C:/Users/skaly/Documents/SignLanguageTranslator/Tensorflow/workspace/images/collectedimgs/no/no.60318773-81ce-11ee-a7e3-fc4482be9ad7.jpg\n",
      "image write successful with name C:/Users/skaly/Documents/SignLanguageTranslator/Tensorflow/workspace/images/collectedimgs/no/no.6166af66-81ce-11ee-ba34-fc4482be9ad7.jpg\n",
      "image write successful with name C:/Users/skaly/Documents/SignLanguageTranslator/Tensorflow/workspace/images/collectedimgs/no/no.629b5117-81ce-11ee-9cfb-fc4482be9ad7.jpg\n",
      "image write successful with name C:/Users/skaly/Documents/SignLanguageTranslator/Tensorflow/workspace/images/collectedimgs/no/no.63cf4a53-81ce-11ee-be14-fc4482be9ad7.jpg\n",
      "image write successful with name C:/Users/skaly/Documents/SignLanguageTranslator/Tensorflow/workspace/images/collectedimgs/no/no.6504762f-81ce-11ee-b590-fc4482be9ad7.jpg\n",
      "ended\n"
     ]
    }
   ],
   "source": [
    "for l in labels:\n",
    "\n",
    "    dir_path = os.path.join(os.path.expanduser('~'), \"Documents\", \"SignLanguageTranslator\",imagePath, l).replace('\\\\', '/')\n",
    "\n",
    "    if os.path.isdir(dir_path):\n",
    "        print(f\"The directory {dir_path} already exists.\")\n",
    "    else:\n",
    "        os.mkdir(dir_path)\n",
    "        print(f\"The directory {dir_path} has been created.\")\n",
    "\n",
    "    cap = cv2.VideoCapture(0)\n",
    "    print(\"collecting images for \"+l)\n",
    "\n",
    "    time.sleep(5)\n",
    "\n",
    "    for imgnum in range(10):\n",
    "        ret, frame = cap.read()\n",
    "        imgname = os.path.join(os.path.expanduser('~'), 'Documents', 'SignLanguageTranslator',imagePath, l, l+\".\"+\"{}.jpg\".format(str(uuid.uuid1()))).replace(\"\\\\\", \"/\")\n",
    "\n",
    "        img = cv2.imwrite(imgname, frame)\n",
    "\n",
    "        if img is True:\n",
    "             print(\"image write successful with name\",imgname)\n",
    "\n",
    "        if ret:\n",
    "                cv2.imshow('frame', frame)\n",
    "                cv2.waitKey(1)\n",
    "        time.sleep(2)\n",
    "\n",
    "        if cv2.waitKey(1) and 0xFF == ord('q'):\n",
    "            break\n",
    "    cap.release()\n",
    "\n",
    "print(\"ended\")\n",
    "cv2.destroyAllWindows()"
   ]
  }
 ],
 "metadata": {
  "kernelspec": {
   "display_name": "Python 3",
   "language": "python",
   "name": "python3"
  },
  "language_info": {
   "codemirror_mode": {
    "name": "ipython",
    "version": 3
   },
   "file_extension": ".py",
   "mimetype": "text/x-python",
   "name": "python",
   "nbconvert_exporter": "python",
   "pygments_lexer": "ipython3",
   "version": "3.11.6"
  }
 },
 "nbformat": 4,
 "nbformat_minor": 2
}
